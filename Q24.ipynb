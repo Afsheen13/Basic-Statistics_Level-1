{
 "cells": [
  {
   "cell_type": "markdown",
   "id": "1154ba60",
   "metadata": {},
   "source": [
    "A Government  company claims that an average light bulb lasts 270 days. A researcher randomly selects 18 bulbs for testing. The sampled bulbs last an average of 260 days, with a standard deviation of 90 days. If the CEO's claim were true, what is the probability that 18 randomly selected bulbs would have an average life of no more than 260 days\n"
   ]
  },
  {
   "cell_type": "code",
   "execution_count": 1,
   "id": "fba91603",
   "metadata": {},
   "outputs": [],
   "source": [
    "from scipy import stats\n",
    "from scipy.stats import norm"
   ]
  },
  {
   "cell_type": "code",
   "execution_count": 2,
   "id": "187e4e4c",
   "metadata": {},
   "outputs": [],
   "source": [
    "# Assume Null Hypothesis is: Ho = Avg life of Bulb >= 260 days"
   ]
  },
  {
   "cell_type": "code",
   "execution_count": 3,
   "id": "7429d4a6",
   "metadata": {},
   "outputs": [],
   "source": [
    "# Alternate Hypothesis is: Ha = Avg life of Bulb < 260 days"
   ]
  },
  {
   "cell_type": "code",
   "execution_count": 4,
   "id": "634dbca4",
   "metadata": {},
   "outputs": [],
   "source": [
    "# t-scores at x=260; \n",
    "# t=(s_mean-P_mean)/(s_SD/sqrt(n))\n",
    "t= (260-270)/(90/18**0.5)"
   ]
  },
  {
   "cell_type": "code",
   "execution_count": 5,
   "id": "8d3912d3",
   "metadata": {},
   "outputs": [
    {
     "data": {
      "text/plain": [
       "-0.4714045207910317"
      ]
     },
     "execution_count": 5,
     "metadata": {},
     "output_type": "execute_result"
    }
   ],
   "source": [
    "t"
   ]
  },
  {
   "cell_type": "code",
   "execution_count": 6,
   "id": "67f22ac7",
   "metadata": {},
   "outputs": [],
   "source": [
    "# p_value=1-stats.t.cdf(abs(t_scores),df=n-1)... Using cdf function"
   ]
  },
  {
   "cell_type": "code",
   "execution_count": 7,
   "id": "614f5bde",
   "metadata": {},
   "outputs": [
    {
     "data": {
      "text/plain": [
       "0.32167411684460556"
      ]
     },
     "execution_count": 7,
     "metadata": {},
     "output_type": "execute_result"
    }
   ],
   "source": [
    "p_value=1-stats.t.cdf(abs(-0.4714),df=17)\n",
    "p_value"
   ]
  },
  {
   "cell_type": "markdown",
   "id": "7b80ebd2",
   "metadata": {},
   "source": [
    "Since p_value > 0.05, we say we failed to reject the null hypothesis. So we can say that the average life of bulb is greater than or equal to 260 days."
   ]
  },
  {
   "cell_type": "code",
   "execution_count": null,
   "id": "5f1c1fe1",
   "metadata": {},
   "outputs": [],
   "source": []
  }
 ],
 "metadata": {
  "kernelspec": {
   "display_name": "Python 3 (ipykernel)",
   "language": "python",
   "name": "python3"
  },
  "language_info": {
   "codemirror_mode": {
    "name": "ipython",
    "version": 3
   },
   "file_extension": ".py",
   "mimetype": "text/x-python",
   "name": "python",
   "nbconvert_exporter": "python",
   "pygments_lexer": "ipython3",
   "version": "3.9.12"
  }
 },
 "nbformat": 4,
 "nbformat_minor": 5
}
